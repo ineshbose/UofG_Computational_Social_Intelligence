{
 "cells": [
  {
   "cell_type": "markdown",
   "metadata": {},
   "source": [
    "### Computational Social Intelligence (H)\n",
    "# Assessed Coursework"
   ]
  },
  {
   "cell_type": "code",
   "execution_count": 1,
   "metadata": {},
   "outputs": [],
   "source": [
    "import difflib\n",
    "import numpy as np\n",
    "import pandas as pd\n",
    "from IPython.display import Markdown\n",
    "\n",
    "\n",
    "def print_md(text):\n",
    "    display(Markdown(text))\n",
    "\n",
    "def enum(**enums):\n",
    "    return type('Enum', (), enums)"
   ]
  },
  {
   "cell_type": "markdown",
   "metadata": {},
   "source": [
    "## Part 1"
   ]
  },
  {
   "cell_type": "markdown",
   "metadata": {},
   "source": [
    "### Loading data"
   ]
  },
  {
   "cell_type": "code",
   "execution_count": 2,
   "metadata": {},
   "outputs": [
    {
     "data": {
      "text/html": [
       "<div>\n",
       "<style scoped>\n",
       "    .dataframe tbody tr th:only-of-type {\n",
       "        vertical-align: middle;\n",
       "    }\n",
       "\n",
       "    .dataframe tbody tr th {\n",
       "        vertical-align: top;\n",
       "    }\n",
       "\n",
       "    .dataframe thead th {\n",
       "        text-align: right;\n",
       "    }\n",
       "</style>\n",
       "<table border=\"1\" class=\"dataframe\">\n",
       "  <thead>\n",
       "    <tr style=\"text-align: right;\">\n",
       "      <th></th>\n",
       "      <th>Gender</th>\n",
       "      <th>Role</th>\n",
       "      <th>Duration</th>\n",
       "    </tr>\n",
       "  </thead>\n",
       "  <tbody>\n",
       "    <tr>\n",
       "      <th>0</th>\n",
       "      <td>Female</td>\n",
       "      <td>Caller</td>\n",
       "      <td>0.961</td>\n",
       "    </tr>\n",
       "    <tr>\n",
       "      <th>1</th>\n",
       "      <td>Male</td>\n",
       "      <td>Receiver</td>\n",
       "      <td>0.630</td>\n",
       "    </tr>\n",
       "    <tr>\n",
       "      <th>2</th>\n",
       "      <td>Female</td>\n",
       "      <td>Caller</td>\n",
       "      <td>1.268</td>\n",
       "    </tr>\n",
       "    <tr>\n",
       "      <th>3</th>\n",
       "      <td>Male</td>\n",
       "      <td>Receiver</td>\n",
       "      <td>0.146</td>\n",
       "    </tr>\n",
       "    <tr>\n",
       "      <th>4</th>\n",
       "      <td>Female</td>\n",
       "      <td>Caller</td>\n",
       "      <td>0.276</td>\n",
       "    </tr>\n",
       "    <tr>\n",
       "      <th>...</th>\n",
       "      <td>...</td>\n",
       "      <td>...</td>\n",
       "      <td>...</td>\n",
       "    </tr>\n",
       "    <tr>\n",
       "      <th>837</th>\n",
       "      <td>Female</td>\n",
       "      <td>Caller</td>\n",
       "      <td>0.328</td>\n",
       "    </tr>\n",
       "    <tr>\n",
       "      <th>838</th>\n",
       "      <td>Female</td>\n",
       "      <td>Caller</td>\n",
       "      <td>0.167</td>\n",
       "    </tr>\n",
       "    <tr>\n",
       "      <th>839</th>\n",
       "      <td>Female</td>\n",
       "      <td>Receiver</td>\n",
       "      <td>0.533</td>\n",
       "    </tr>\n",
       "    <tr>\n",
       "      <th>840</th>\n",
       "      <td>Female</td>\n",
       "      <td>Receiver</td>\n",
       "      <td>0.353</td>\n",
       "    </tr>\n",
       "    <tr>\n",
       "      <th>841</th>\n",
       "      <td>Female</td>\n",
       "      <td>Caller</td>\n",
       "      <td>0.384</td>\n",
       "    </tr>\n",
       "  </tbody>\n",
       "</table>\n",
       "<p>842 rows × 3 columns</p>\n",
       "</div>"
      ],
      "text/plain": [
       "     Gender      Role  Duration\n",
       "0    Female    Caller     0.961\n",
       "1      Male  Receiver     0.630\n",
       "2    Female    Caller     1.268\n",
       "3      Male  Receiver     0.146\n",
       "4    Female    Caller     0.276\n",
       "..      ...       ...       ...\n",
       "837  Female    Caller     0.328\n",
       "838  Female    Caller     0.167\n",
       "839  Female  Receiver     0.533\n",
       "840  Female  Receiver     0.353\n",
       "841  Female    Caller     0.384\n",
       "\n",
       "[842 rows x 3 columns]"
      ]
     },
     "execution_count": 2,
     "metadata": {},
     "output_type": "execute_result"
    }
   ],
   "source": [
    "laughter_corpus = pd.read_csv(\"data/laughter-corpus.csv\")\n",
    "\n",
    "laughter_corpus"
   ]
  },
  {
   "cell_type": "markdown",
   "metadata": {},
   "source": [
    "## Is the number of laughter events higher for women than for men?\n",
    "\n",
    "**Research hypothesis:** The number of laughter events is higher for women than for men.\n",
    "\n",
    "**Null hypothesis:** The number of laughter events for women and men are the same."
   ]
  },
  {
   "cell_type": "code",
   "execution_count": 16,
   "metadata": {},
   "outputs": [
    {
     "data": {
      "text/markdown": [
       "\n",
       "### Null hypothesis can be rejected. (13.86)\n",
       "\n",
       "|            |         Expected         |         Actual         |\n",
       "| ---------- | ------------------------ | ---------------------- |\n",
       "| **Male**   |  399.95  |  346  |\n",
       "| **Female** | 442.05 | 496 |\n"
      ],
      "text/plain": [
       "<IPython.core.display.Markdown object>"
      ]
     },
     "metadata": {},
     "output_type": "display_data"
    }
   ],
   "source": [
    "events = len(laughter_corpus)\n",
    "speakers = 120\n",
    "male = 57\n",
    "female = 63\n",
    "\n",
    "expected_male_events = (male/speakers) * events\n",
    "expected_female_events = (female/speakers) * events\n",
    "\n",
    "actual_male_events = len(laughter_corpus.query(\"Gender == 'Male'\"))\n",
    "actual_female_events = len(laughter_corpus.query(\"Gender == 'Female'\"))\n",
    "\n",
    "mf_chi_square = (\n",
    "    (\n",
    "        ((actual_male_events - expected_male_events)**2)\n",
    "        / expected_male_events\n",
    "    )\n",
    "    + (\n",
    "        ((actual_female_events - expected_female_events)**2)\n",
    "        / expected_female_events\n",
    "    )\n",
    ")\n",
    "\n",
    "print_md(\n",
    "f\"\"\"\n",
    "### Null hypothesis {\n",
    "    \"can be rejected\" if abs(mf_chi_square) > 6.63 else \"is true\"\n",
    "}. ({mf_chi_square:.2f})\n",
    "\n",
    "|            |         Expected         |         Actual         |\n",
    "| ---------- | ------------------------ | ---------------------- |\n",
    "| **Male**   |  {expected_male_events}  |  {actual_male_events}  |\n",
    "| **Female** | {expected_female_events} | {actual_female_events} |\n",
    "\"\"\"\n",
    ")"
   ]
  },
  {
   "cell_type": "markdown",
   "metadata": {},
   "source": [
    "## Is the number of laughter events higher for callers than for receivers?\n",
    "\n",
    "**Research hypothesis:** The number of laughter events is higher for callers than for receivers.\n",
    "\n",
    "**Null hypothesis:** The number of laughter events for callers and receivers are the same."
   ]
  },
  {
   "cell_type": "code",
   "execution_count": 18,
   "metadata": {},
   "outputs": [
    {
     "data": {
      "text/markdown": [
       "\n",
       "### Null hypothesis can be rejected. (33.52)\n",
       "\n",
       "|               |          Expected          |          Actual          |\n",
       "| ------------- | -------------------------- | ------------------------ |\n",
       "| **Callers**   |  421.0  |  505  |\n",
       "| **Receivers** | 421.0 | 337 |\n"
      ],
      "text/plain": [
       "<IPython.core.display.Markdown object>"
      ]
     },
     "metadata": {},
     "output_type": "display_data"
    }
   ],
   "source": [
    "events = len(laughter_corpus)\n",
    "callers = 60\n",
    "receivers = 60\n",
    "\n",
    "expected_caller_events = (callers/(callers+receivers)) * events\n",
    "expected_receiver_events = (receivers/(callers+receivers)) * events\n",
    "\n",
    "actual_caller_events = len(laughter_corpus.query(\"Role == 'Caller'\"))\n",
    "actual_receiver_events = len(laughter_corpus.query(\"Role == 'Receiver'\"))\n",
    "\n",
    "cr_chi_square = (\n",
    "    (\n",
    "        ((actual_caller_events - expected_caller_events)**2)\n",
    "        / expected_caller_events\n",
    "    )\n",
    "    + (\n",
    "        ((actual_receiver_events - expected_receiver_events)**2)\n",
    "        / expected_receiver_events\n",
    "    )\n",
    ")\n",
    "\n",
    "print_md(\n",
    "f\"\"\"\n",
    "### Null hypothesis {\n",
    "    \"can be rejected\" if abs(cr_chi_square) > 6.63 else \"is true\"\n",
    "}. ({cr_chi_square:.2f})\n",
    "\n",
    "|               |          Expected          |          Actual          |\n",
    "| ------------- | -------------------------- | ------------------------ |\n",
    "| **Callers**   |  {expected_caller_events}  |  {actual_caller_events}  |\n",
    "| **Receivers** | {expected_receiver_events} | {actual_receiver_events} |\n",
    "\"\"\"\n",
    ")"
   ]
  },
  {
   "cell_type": "markdown",
   "metadata": {},
   "source": [
    "## Are laughter events longer for women?\n",
    "\n",
    "**Research hypothesis:** Laughter events are longer for women.\n",
    "\n",
    "**Null hypothesis:** Laughter events for women have the same duration as laughter events for men."
   ]
  },
  {
   "cell_type": "code",
   "execution_count": 19,
   "metadata": {},
   "outputs": [
    {
     "data": {
      "text/markdown": [
       "\n",
       "### Null hypothesis can be rejected. (-3.51)\n",
       "\n",
       "|            |          Total          |          Mean          |          Variance          |\n",
       "| ---------- | ----------------------- | ---------------------- | -------------------------- |\n",
       "| **Male**   |  209.75600000000003  |  0.6062312138728323  |  0.16375125653011646  |\n",
       "| **Female** | 352.004 | 0.7096854838709694 | 0.19502413118279563 |\n"
      ],
      "text/plain": [
       "<IPython.core.display.Markdown object>"
      ]
     },
     "metadata": {},
     "output_type": "display_data"
    }
   ],
   "source": [
    "male_duration = laughter_corpus.query(\"Gender == 'Male'\")[\"Duration\"]\n",
    "female_duration = laughter_corpus.query(\"Gender == 'Female'\")[\"Duration\"]\n",
    "\n",
    "total_male_duration = male_duration.sum()\n",
    "total_female_duration = female_duration.sum()\n",
    "\n",
    "mean_male_duration = male_duration.mean()\n",
    "mean_female_duration = female_duration.mean()\n",
    "\n",
    "variance_male_duration = male_duration.var()\n",
    "variance_female_duration = female_duration.var()\n",
    "\n",
    "mf_t_value = (\n",
    "    (mean_male_duration - mean_female_duration)\n",
    "    / (\n",
    "        (variance_male_duration / len(male_duration))\n",
    "        + (variance_female_duration / len(female_duration))\n",
    "    )**(1/2)\n",
    ")\n",
    "\n",
    "print_md(\n",
    "f\"\"\"\n",
    "### Null hypothesis {\n",
    "    \"can be rejected\" if abs(mf_t_value) > 2.36 else \"is true\"\n",
    "}. ({mf_t_value:.2f})\n",
    "\n",
    "|            |          Total          |          Mean          |          Variance          |\n",
    "| ---------- | ----------------------- | ---------------------- | -------------------------- |\n",
    "| **Male**   |  {total_male_duration}  |  {mean_male_duration}  |  {variance_male_duration}  |\n",
    "| **Female** | {total_female_duration} | {mean_female_duration} | {variance_female_duration} |\n",
    "\"\"\"\n",
    ")"
   ]
  },
  {
   "cell_type": "markdown",
   "metadata": {},
   "source": [
    "## Are laughter events longer for callers?\n",
    "\n",
    "**Research hypothesis:** Laughter events are longer for callers.\n",
    "\n",
    "**Null hypothesis:** Laughter events for callers have the same duration as laughter events for receivers."
   ]
  },
  {
   "cell_type": "code",
   "execution_count": 20,
   "metadata": {
    "scrolled": true
   },
   "outputs": [
    {
     "data": {
      "text/markdown": [
       "\n",
       "### Null hypothesis can be rejected. (7.05)\n",
       "\n",
       "|               |           Total           |           Mean           |           Variance           |\n",
       "| ------------- | ------------------------- | ------------------------ | ---------------------------- |\n",
       "| **Callers**   |  376.61199999999997  |  0.7457663366336641  |  0.2126547944994499  |\n",
       "| **Receivers** | 185.14800000000002 | 0.5494005934718107 | 0.11976459202345631 |\n"
      ],
      "text/plain": [
       "<IPython.core.display.Markdown object>"
      ]
     },
     "metadata": {},
     "output_type": "display_data"
    }
   ],
   "source": [
    "caller_duration = laughter_corpus.query(\"Role == 'Caller'\")[\"Duration\"]\n",
    "receiver_duration = laughter_corpus.query(\"Role == 'Receiver'\")[\"Duration\"]\n",
    "\n",
    "total_caller_duration = caller_duration.sum()\n",
    "total_receiver_duration = receiver_duration.sum()\n",
    "\n",
    "mean_caller_duration = caller_duration.mean()\n",
    "mean_receiver_duration = receiver_duration.mean()\n",
    "\n",
    "variance_caller_duration = caller_duration.var()\n",
    "variance_receiver_duration = receiver_duration.var()\n",
    "\n",
    "cr_t_value = (\n",
    "    (mean_caller_duration - mean_receiver_duration)\n",
    "    / (\n",
    "        (variance_caller_duration / len(caller_duration))\n",
    "        + (variance_receiver_duration / len(receiver_duration))\n",
    "    )**(1/2)\n",
    ")\n",
    "\n",
    "print_md(\n",
    "f\"\"\"\n",
    "### Null hypothesis {\n",
    "    \"can be rejected\" if abs(cr_t_value) > 2.36 else \"is true\"\n",
    "}. ({cr_t_value:.2f})\n",
    "\n",
    "|               |           Total           |           Mean           |           Variance           |\n",
    "| ------------- | ------------------------- | ------------------------ | ---------------------------- |\n",
    "| **Callers**   |  {total_caller_duration}  |  {mean_caller_duration}  |  {variance_caller_duration}  |\n",
    "| **Receivers** | {total_receiver_duration} | {mean_receiver_duration} | {variance_receiver_duration} |\n",
    "\"\"\"\n",
    ")"
   ]
  },
  {
   "cell_type": "markdown",
   "metadata": {},
   "source": [
    "## Part 2"
   ]
  },
  {
   "cell_type": "markdown",
   "metadata": {},
   "source": [
    "## Gaussian Discriminant Function"
   ]
  },
  {
   "cell_type": "code",
   "execution_count": 7,
   "metadata": {},
   "outputs": [
    {
     "data": {
      "text/markdown": [
       "\n",
       "### The error rate of the prediction for `training-part-2.csv` is 2.78%.\n",
       "\n",
       "|   | Prediction | Actual |\n",
       "| - | ---------- | ------ |\n",
       "| **0** | frown | frown |\n",
       "| **1** | frown | frown |\n",
       "| **2** | frown | frown |\n",
       "| **3** | frown | frown |\n",
       "| **4** | frown | frown |\n",
       "| **5** | frown | frown |\n",
       "| **6** | frown | frown |\n",
       "| **7** | frown | frown |\n",
       "| **8** | frown | frown |\n",
       "| **9** | frown | frown |\n",
       "| **10** | frown | frown |\n",
       "| **11** | frown | frown |\n",
       "| **12** | frown | frown |\n",
       "| **13** | frown | frown |\n",
       "| **14** | frown | frown |\n",
       "| **15** | frown | frown |\n",
       "| **16** | frown | frown |\n",
       "| **17** | frown | frown |\n",
       "| **18** | smile | smile |\n",
       "| **19** | smile | smile |\n",
       "| **20** | smile | smile |\n",
       "| **21** | smile | smile |\n",
       "| **22** | smile | smile |\n",
       "| **23** | smile | smile |\n",
       "| **24** | smile | smile |\n",
       "| **25** | smile | smile |\n",
       "| **26** | smile | smile |\n",
       "| **27** | smile | smile |\n",
       "| **28** | smile | smile |\n",
       "| **29** | smile | smile |\n",
       "| **30** | smile | smile |\n",
       "| **31** | smile | smile |\n",
       "| **32** | smile | smile |\n",
       "| **33** | smile | smile |\n",
       "| **34** | _**frown**_ | smile |\n",
       "| **35** | smile | smile |"
      ],
      "text/plain": [
       "<IPython.core.display.Markdown object>"
      ]
     },
     "metadata": {},
     "output_type": "display_data"
    },
    {
     "data": {
      "text/markdown": [
       "\n",
       "### The error rate of the prediction for `test-part-2.csv` is 0.0%.\n",
       "\n",
       "|   | Prediction | Actual |\n",
       "| - | ---------- | ------ |\n",
       "| **0** | frown | frown |\n",
       "| **1** | frown | frown |\n",
       "| **2** | frown | frown |\n",
       "| **3** | frown | frown |\n",
       "| **4** | frown | frown |\n",
       "| **5** | frown | frown |\n",
       "| **6** | frown | frown |\n",
       "| **7** | frown | frown |\n",
       "| **8** | smile | smile |\n",
       "| **9** | smile | smile |\n",
       "| **10** | smile | smile |\n",
       "| **11** | smile | smile |\n",
       "| **12** | smile | smile |\n",
       "| **13** | smile | smile |\n",
       "| **14** | smile | smile |\n",
       "| **15** | smile | smile |"
      ],
      "text/plain": [
       "<IPython.core.display.Markdown object>"
      ]
     },
     "metadata": {},
     "output_type": "display_data"
    }
   ],
   "source": [
    "def gaussian_discriminant_function(vector, likelihood, deviation):\n",
    "    return -np.sum(\n",
    "        np.log(\n",
    "            np.sqrt(2 * np.pi) * deviation\n",
    "        )\n",
    "        + (\n",
    "            (\n",
    "                (vector.to_numpy()[:-1] - likelihood.to_numpy())**2\n",
    "            )\n",
    "            /(2 * (deviation**2))\n",
    "        )\n",
    "    )\n",
    "\n",
    "index = enum(SMILE=0, FROWN=1)\n",
    "\n",
    "for f in [\"training-part-2.csv\", \"test-part-2.csv\"]:\n",
    "    file_to_test = pd.read_csv(f\"data/{f}\")\n",
    "\n",
    "    likelihoods = [\n",
    "        (\n",
    "            file_to_test.query(f\"Class == '{c}'\").sum(numeric_only=True)\n",
    "            / len(file_to_test.query(f\"Class == '{c}'\"))\n",
    "        )\n",
    "        for c in [\"smile\", \"frown\"]\n",
    "    ]\n",
    "\n",
    "    standard_deviation = file_to_test.std()\n",
    "\n",
    "    predictions = [\n",
    "        (\n",
    "            \"smile\"\n",
    "            if (\n",
    "                gaussian_discriminant_function(\n",
    "                    vector, likelihoods[index.SMILE], standard_deviation\n",
    "                )\n",
    "                > gaussian_discriminant_function(\n",
    "                    vector, likelihoods[index.FROWN], standard_deviation\n",
    "                )\n",
    "            )\n",
    "            else \"frown\"\n",
    "        ) for vector in file_to_test.iloc\n",
    "    ]\n",
    "\n",
    "    print_md(\n",
    "f\"\"\"\n",
    "### The error rate of the prediction for `{f}` is {\n",
    "    round(\n",
    "        (1 - difflib.SequenceMatcher(\n",
    "            None, predictions, list(file_to_test[\"Class\"])).ratio()\n",
    "        ) * 100,\n",
    "        2,\n",
    "    )\n",
    "}%.\n",
    "\n",
    "|   | Prediction | Actual |\n",
    "| - | ---------- | ------ |\n",
    "\"\"\"\n",
    "+ \"\\n\".join(\n",
    "    f\"\"\"| **{index}** | {(\n",
    "        prediction if prediction == actual else f'_**{prediction}**_'\n",
    "    )} | {actual} |\"\"\"\n",
    "    for index, (prediction, actual) in enumerate(\n",
    "        zip(predictions, list(file_to_test[\"Class\"]))\n",
    "    )\n",
    ")\n",
    "    )"
   ]
  }
 ],
 "metadata": {
  "kernelspec": {
   "display_name": "Python 3",
   "language": "python",
   "name": "python3"
  },
  "language_info": {
   "codemirror_mode": {
    "name": "ipython",
    "version": 3
   },
   "file_extension": ".py",
   "mimetype": "text/x-python",
   "name": "python",
   "nbconvert_exporter": "python",
   "pygments_lexer": "ipython3",
   "version": "3.8.5"
  }
 },
 "nbformat": 4,
 "nbformat_minor": 4
}
